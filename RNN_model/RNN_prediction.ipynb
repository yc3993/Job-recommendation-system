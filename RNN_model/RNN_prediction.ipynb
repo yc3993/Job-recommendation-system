{
 "cells": [
  {
   "cell_type": "code",
   "execution_count": 68,
   "id": "744c470b",
   "metadata": {},
   "outputs": [],
   "source": [
    "import pandas as pd\n",
    "import numpy as np\n",
    "import matplotlib.pyplot as plt\n",
    "import nltk\n",
    "from sklearn.model_selection import train_test_split\n",
    "import re\n",
    "import tensorflow as tf"
   ]
  },
  {
   "cell_type": "code",
   "execution_count": 36,
   "id": "be4eaebd",
   "metadata": {},
   "outputs": [],
   "source": [
    "data_path  = \"/home/ecbm4040/preprocessed_data.csv\"\n",
    "df1 = pd.read_csv(data_path,names=['text','job_category'],encoding = \"ISO-8859-1\")\n",
    "df2 = pd.read_csv('/home/ecbm4040/data_scientist_united_states_job_postings_jobspikr.csv',names=['text','job_category'],encoding = \"ISO-8859-1\")\n",
    "df3 = pd.read_csv('/home/ecbm4040/software_developer_united_states_1971_20191023_1.csv',names=['text','job_category'],encoding = \"ISO-8859-1\")"
   ]
  },
  {
   "cell_type": "code",
   "execution_count": 54,
   "id": "63755f7c",
   "metadata": {},
   "outputs": [],
   "source": [
    "df=pd.concat([df1,df2, df3], ignore_index = True,axis=0)\n",
    "d = {'job_category':df['job_category'].value_counts().index, 'count': df['job_category'].value_counts()}\n",
    "df_cat = pd.DataFrame(data=d).reset_index(drop=True)\n",
    "df['cat_id'] = df['job_category'].factorize()[0]\n",
    "cat_id_df = df[['job_category', 'cat_id']].drop_duplicates().sort_values('cat_id').reset_index(drop=True)\n",
    "cat_to_id = dict(cat_id_df.values)\n",
    "id_to_cat = dict(cat_id_df[['cat_id', 'job_category']].values)"
   ]
  },
  {
   "cell_type": "code",
   "execution_count": 55,
   "id": "43662f61",
   "metadata": {},
   "outputs": [],
   "source": [
    "MAX_NB_WORDS = 500\n",
    "# 每条cut_review最大的长度\n",
    "MAX_SEQUENCE_LENGTH = 250\n",
    "# 设置Embeddingceng层的维度\n",
    "EMBEDDING_DIM = 100\n",
    " \n",
    "tokenizer = tf.keras.preprocessing.text.Tokenizer(num_words=MAX_NB_WORDS, filters='!\"#$%&()*+,-./:;<=>?@[\\]^_`{|}~', lower=True)\n",
    "tokenizer.fit_on_texts(df['text'].values)\n",
    "word_index = tokenizer.word_index\n"
   ]
  },
  {
   "cell_type": "code",
   "execution_count": 56,
   "id": "35dc7397",
   "metadata": {},
   "outputs": [
    {
     "name": "stdout",
     "output_type": "stream",
     "text": [
      "(9984, 250)\n",
      "(9984, 27)\n"
     ]
    }
   ],
   "source": [
    "X = tokenizer.texts_to_sequences(df['text'].values)\n",
    "#填充X,让X的各个列的长度统一\n",
    "X = tf.keras.preprocessing.sequence.pad_sequences(X, maxlen=MAX_SEQUENCE_LENGTH)\n",
    " \n",
    "#多类标签的onehot展开\n",
    "Y = pd.get_dummies(df['cat_id']).values\n",
    " \n",
    "print(X.shape)\n",
    "print(Y.shape)"
   ]
  },
  {
   "cell_type": "code",
   "execution_count": 57,
   "id": "f199094c",
   "metadata": {},
   "outputs": [
    {
     "name": "stdout",
     "output_type": "stream",
     "text": [
      "(8985, 250) (8985, 27)\n",
      "(999, 250) (999, 27)\n"
     ]
    }
   ],
   "source": [
    "X_train, X_test, Y_train, Y_test = train_test_split(X,Y, test_size = 0.10, random_state = 42)\n",
    "print(X_train.shape,Y_train.shape)\n",
    "print(X_test.shape,Y_test.shape)"
   ]
  },
  {
   "cell_type": "code",
   "execution_count": 58,
   "id": "2aa64c9a",
   "metadata": {},
   "outputs": [
    {
     "name": "stdout",
     "output_type": "stream",
     "text": [
      "Model: \"sequential_4\"\n",
      "_________________________________________________________________\n",
      "Layer (type)                 Output Shape              Param #   \n",
      "=================================================================\n",
      "embedding_4 (Embedding)      (None, 250, 100)          50000     \n",
      "_________________________________________________________________\n",
      "lstm_8 (LSTM)                (None, 250, 50)           30200     \n",
      "_________________________________________________________________\n",
      "lstm_9 (LSTM)                (None, 50)                20200     \n",
      "_________________________________________________________________\n",
      "dense_4 (Dense)              (None, 27)                1377      \n",
      "=================================================================\n",
      "Total params: 101,777\n",
      "Trainable params: 101,777\n",
      "Non-trainable params: 0\n",
      "_________________________________________________________________\n",
      "None\n"
     ]
    }
   ],
   "source": [
    "model = tf.keras.models.Sequential()\n",
    "model.add(tf.keras.layers.Embedding(MAX_NB_WORDS, EMBEDDING_DIM, input_length=X.shape[1]))\n",
    "model.add(tf.keras.layers.LSTM(50, dropout=0.2,return_sequences=True, recurrent_dropout=0.2))\n",
    "model.add(tf.keras.layers.LSTM(50, dropout=0.2, recurrent_dropout=0.2))\n",
    "model.add(tf.keras.layers.Dense(27, activation='softmax'))\n",
    "model.compile(loss='categorical_crossentropy', optimizer='adam', metrics=['accuracy'])\n",
    "print(model.summary())"
   ]
  },
  {
   "cell_type": "code",
   "execution_count": 59,
   "id": "e784d49d",
   "metadata": {},
   "outputs": [
    {
     "name": "stdout",
     "output_type": "stream",
     "text": [
      "Epoch 1/10\n",
      "127/127 [==============================] - 91s 689ms/step - loss: 1.7035 - accuracy: 0.5851 - val_loss: 0.8264 - val_accuracy: 0.6085\n",
      "Epoch 2/10\n",
      "127/127 [==============================] - 86s 678ms/step - loss: 0.8189 - accuracy: 0.6187 - val_loss: 0.8150 - val_accuracy: 0.6107\n",
      "Epoch 3/10\n",
      "127/127 [==============================] - 87s 682ms/step - loss: 0.7988 - accuracy: 0.6224 - val_loss: 0.7483 - val_accuracy: 0.6808\n",
      "Epoch 4/10\n",
      "127/127 [==============================] - 85s 671ms/step - loss: 0.6975 - accuracy: 0.6909 - val_loss: 0.7545 - val_accuracy: 0.6830\n",
      "Epoch 5/10\n",
      "127/127 [==============================] - 85s 671ms/step - loss: 0.8010 - accuracy: 0.6206 - val_loss: 0.4493 - val_accuracy: 0.8643\n",
      "Epoch 6/10\n",
      "127/127 [==============================] - 85s 666ms/step - loss: 0.4631 - accuracy: 0.8554 - val_loss: 0.4115 - val_accuracy: 0.8821\n",
      "Epoch 7/10\n",
      "127/127 [==============================] - 85s 666ms/step - loss: 0.3964 - accuracy: 0.8805 - val_loss: 0.5283 - val_accuracy: 0.8821\n",
      "Epoch 8/10\n",
      "127/127 [==============================] - 86s 675ms/step - loss: 0.3783 - accuracy: 0.8948 - val_loss: 0.3498 - val_accuracy: 0.8966\n",
      "Epoch 9/10\n",
      "127/127 [==============================] - 87s 681ms/step - loss: 0.3284 - accuracy: 0.9019 - val_loss: 0.3383 - val_accuracy: 0.9010\n",
      "Epoch 10/10\n",
      "127/127 [==============================] - 86s 678ms/step - loss: 0.3229 - accuracy: 0.9049 - val_loss: 0.4976 - val_accuracy: 0.8254\n"
     ]
    }
   ],
   "source": [
    "epochs = 10\n",
    "batch_size = 64\n",
    "\n",
    "history = model.fit(X_train, Y_train, epochs=epochs, batch_size=batch_size,validation_split=0.1)"
   ]
  },
  {
   "cell_type": "code",
   "execution_count": 52,
   "id": "040b2730",
   "metadata": {},
   "outputs": [],
   "source": [
    "def predict(text):\n",
    "    seq = tokenizer.texts_to_sequences(text)\n",
    "    padded = tf.keras.preprocessing.sequence.pad_sequences(seq, maxlen=MAX_SEQUENCE_LENGTH)\n",
    "    pred = model.predict(padded)\n",
    "    cat_id= pred.argmax(axis=1)[0]\n",
    "    return cat_id_df[cat_id_df.cat_id==cat_id]['job_category'].values[0]\n"
   ]
  },
  {
   "cell_type": "code",
   "execution_count": 50,
   "id": "8b4c2d87",
   "metadata": {},
   "outputs": [
    {
     "data": {
      "text/plain": [
       "'data scientist'"
      ]
     },
     "execution_count": 50,
     "metadata": {},
     "output_type": "execute_result"
    }
   ],
   "source": [
    "predict('Making the right decision is a difficult but interesting thing, you must calculate the outcome of each choice and calculate the impact of each outcome. After I took the course of probability theory and statistics in college, I became fascinating in decision making methods. This passion carried me through my education at PKU. I studied new languages including SQL')"
   ]
  },
  {
   "cell_type": "code",
   "execution_count": 53,
   "id": "fdfd9e2e",
   "metadata": {},
   "outputs": [
    {
     "data": {
      "text/plain": [
       "'software design'"
      ]
     },
     "execution_count": 53,
     "metadata": {},
     "output_type": "execute_result"
    }
   ],
   "source": [
    "predict('Currently I am mainly working on back-end, such as micro-service, automated workflow and event processing pipeline, but I also have experience in deploying infrastructure as code and front-end development.')"
   ]
  },
  {
   "cell_type": "code",
   "execution_count": 65,
   "id": "8242fdf7",
   "metadata": {},
   "outputs": [
    {
     "name": "stdout",
     "output_type": "stream",
     "text": [
      "Variance PCA: 0.9999999403953552\n",
      "[t-SNE] Computing 91 nearest neighbors...\n",
      "[t-SNE] Indexed 5000 samples in 0.001s...\n",
      "[t-SNE] Computed neighbors for 5000 samples in 0.663s...\n",
      "[t-SNE] Computed conditional probabilities for sample 1000 / 5000\n",
      "[t-SNE] Computed conditional probabilities for sample 2000 / 5000\n",
      "[t-SNE] Computed conditional probabilities for sample 3000 / 5000\n",
      "[t-SNE] Computed conditional probabilities for sample 4000 / 5000\n",
      "[t-SNE] Computed conditional probabilities for sample 5000 / 5000\n",
      "[t-SNE] Mean sigma: 0.000000\n",
      "[t-SNE] KL divergence after 250 iterations with early exaggeration: 55.509674\n",
      "[t-SNE] KL divergence after 1000 iterations: 0.273913\n"
     ]
    }
   ],
   "source": [
    "from sklearn.decomposition import PCA\n",
    "from sklearn.manifold import TSNE\n",
    "\n",
    "hidden_features = model.predict(X)\n",
    "pca = PCA(n_components=27)\n",
    "pca_result = pca.fit_transform(hidden_features)\n",
    "print('Variance PCA: {}'.format(np.sum(pca.explained_variance_ratio_)))\n",
    "##Variance PCA: 0.993621154832802\n",
    "\n",
    "#Run T-SNE on the PCA features.\n",
    "tsne = TSNE(n_components=2, verbose = 1)\n",
    "tsne_results = tsne.fit_transform(pca_result[:5000])"
   ]
  },
  {
   "cell_type": "code",
   "execution_count": 73,
   "id": "ce9a0bc2",
   "metadata": {},
   "outputs": [
    {
     "data": {
      "image/png": "[encoded data removed]",
      "text/plain": [
       "<Figure size 720x720 with 1 Axes>"
      ]
     },
     "metadata": {
      "needs_background": "light"
     },
     "output_type": "display_data"
    }
   ],
   "source": [
    "from tensorflow.keras.utils import to_categorical\n",
    "import matplotlib.pyplot as plt\n",
    "%matplotlib inline\n",
    "\n",
    "y_test_cat = to_categorical(Y[:5000], num_classes = 2)\n",
    "color_map = np.argmax(y_test_cat, axis=1)\n",
    "plt.figure(figsize=(10,10))\n",
    "for cl in range(2):\n",
    "    indices = np.where(color_map==cl)\n",
    "    indices = indices[0]\n",
    "    plt.scatter(tsne_results[indices,0], tsne_results[indices, 1], label=cl)\n",
    "plt.legend()\n",
    "plt.show()"
   ]
  },
  {
   "cell_type": "code",
   "execution_count": null,
   "id": "5ae56ad8",
   "metadata": {},
   "outputs": [],
   "source": []
  }
 ],
 "metadata": {
  "kernelspec": {
   "display_name": "Python 3",
   "language": "python",
   "name": "python3"
  },
  "language_info": {
   "codemirror_mode": {
    "name": "ipython",
    "version": 3
   },
   "file_extension": ".py",
   "mimetype": "text/x-python",
   "name": "python",
   "nbconvert_exporter": "python",
   "pygments_lexer": "ipython3",
   "version": "3.6.9"
  }
 },
 "nbformat": 4,
 "nbformat_minor": 5
}
