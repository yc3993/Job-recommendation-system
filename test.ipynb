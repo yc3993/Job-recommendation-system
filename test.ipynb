{
  "nbformat": 4,
  "nbformat_minor": 0,
  "metadata": {
    "colab": {
      "name": "test",
      "provenance": []
    },
    "kernelspec": {
      "name": "python3",
      "display_name": "Python 3"
    },
    "language_info": {
      "name": "python"
    }
  },
  "cells": [
    {
      "cell_type": "code",
      "metadata": {
        "id": "4TlaMk5GD55j"
      },
      "source": [
        "import pandas as pd\n",
        "import numpy as np\n",
        "import matplotlib.pyplot as plt\n",
        "import nltk\n",
        "import keras\n",
        "from keras.preprocessing.text import Tokenizer\n",
        "from keras.layers import Dense, Dropout, Embedding, LSTM, Bidirectional,InputLayer\n",
        "from sklearn.model_selection import train_test_split"
      ],
      "execution_count": 2,
      "outputs": []
    },
    {
      "cell_type": "code",
      "metadata": {
        "id": "7EvVD98TlcAo"
      },
      "source": [
        "import re"
      ],
      "execution_count": 35,
      "outputs": []
    },
    {
      "cell_type": "code",
      "metadata": {
        "id": "sO4dTFmeBlzY"
      },
      "source": [
        "data_path  = \"/content/preprocessed_data.csv\"\n",
        "df1 = pd.read_csv(data_path,names=['text','job_category'],encoding = \"ISO-8859-1\")\n",
        "df2 = pd.read_csv('/content/data_scientist_united_states_job_postings_jobspikr.csv',names=['text','job_category'],encoding = \"ISO-8859-1\")\n",
        "df3 = pd.read_csv('/content/software_developer_united_states_1971_20191023_1.csv',names=['text','job_category'],encoding = \"ISO-8859-1\")"
      ],
      "execution_count": 92,
      "outputs": []
    },
    {
      "cell_type": "code",
      "metadata": {
        "colab": {
          "base_uri": "https://localhost:8080/",
          "height": 419
        },
        "id": "wrd043aDpyld",
        "outputId": "94a3546c-aa51-4ff5-d8f2-03df2cceaaaf"
      },
      "source": [
        "df1"
      ],
      "execution_count": 52,
      "outputs": [
        {
          "output_type": "execute_result",
          "data": {
            "text/html": [
              "<div>\n",
              "<style scoped>\n",
              "    .dataframe tbody tr th:only-of-type {\n",
              "        vertical-align: middle;\n",
              "    }\n",
              "\n",
              "    .dataframe tbody tr th {\n",
              "        vertical-align: top;\n",
              "    }\n",
              "\n",
              "    .dataframe thead th {\n",
              "        text-align: right;\n",
              "    }\n",
              "</style>\n",
              "<table border=\"1\" class=\"dataframe\">\n",
              "  <thead>\n",
              "    <tr style=\"text-align: right;\">\n",
              "      <th></th>\n",
              "      <th>text</th>\n",
              "      <th>job_category</th>\n",
              "    </tr>\n",
              "  </thead>\n",
              "  <tbody>\n",
              "    <tr>\n",
              "      <th>0</th>\n",
              "      <td>an experienced hr professional hr mentor coach...</td>\n",
              "      <td>hr</td>\n",
              "    </tr>\n",
              "    <tr>\n",
              "      <th>1</th>\n",
              "      <td>head talent acquisition hr leader strategic pa...</td>\n",
              "      <td>hr</td>\n",
              "    </tr>\n",
              "    <tr>\n",
              "      <th>2</th>\n",
              "      <td>a talent acquisition hr professional experienc...</td>\n",
              "      <td>hr</td>\n",
              "    </tr>\n",
              "    <tr>\n",
              "      <th>3</th>\n",
              "      <td>over 18 years experience it ites bpo leading g...</td>\n",
              "      <td>hr</td>\n",
              "    </tr>\n",
              "    <tr>\n",
              "      <th>4</th>\n",
              "      <td>human resources business partner demonstrated ...</td>\n",
              "      <td>hr</td>\n",
              "    </tr>\n",
              "    <tr>\n",
              "      <th>...</th>\n",
              "      <td>...</td>\n",
              "      <td>...</td>\n",
              "    </tr>\n",
              "    <tr>\n",
              "      <th>665</th>\n",
              "      <td>experienced aircraft maintenance engineer demo...</td>\n",
              "      <td>aviation</td>\n",
              "    </tr>\n",
              "    <tr>\n",
              "      <th>666</th>\n",
              "      <td>aerobusiness professional independent consulta...</td>\n",
              "      <td>aviation</td>\n",
              "    </tr>\n",
              "    <tr>\n",
              "      <th>667</th>\n",
              "      <td>i ritu royborn india energeticambitious young ...</td>\n",
              "      <td>aviation</td>\n",
              "    </tr>\n",
              "    <tr>\n",
              "      <th>668</th>\n",
              "      <td>an mba graduate specialized aviation managemen...</td>\n",
              "      <td>aviation</td>\n",
              "    </tr>\n",
              "    <tr>\n",
              "      <th>669</th>\n",
              "      <td>currently im pursuing mba aviation management ...</td>\n",
              "      <td>aviation</td>\n",
              "    </tr>\n",
              "  </tbody>\n",
              "</table>\n",
              "<p>670 rows × 2 columns</p>\n",
              "</div>"
            ],
            "text/plain": [
              "                                                  text job_category\n",
              "0    an experienced hr professional hr mentor coach...           hr\n",
              "1    head talent acquisition hr leader strategic pa...           hr\n",
              "2    a talent acquisition hr professional experienc...           hr\n",
              "3    over 18 years experience it ites bpo leading g...           hr\n",
              "4    human resources business partner demonstrated ...           hr\n",
              "..                                                 ...          ...\n",
              "665  experienced aircraft maintenance engineer demo...     aviation\n",
              "666  aerobusiness professional independent consulta...     aviation\n",
              "667  i ritu royborn india energeticambitious young ...     aviation\n",
              "668  an mba graduate specialized aviation managemen...     aviation\n",
              "669  currently im pursuing mba aviation management ...     aviation\n",
              "\n",
              "[670 rows x 2 columns]"
            ]
          },
          "metadata": {},
          "execution_count": 52
        }
      ]
    },
    {
      "cell_type": "code",
      "metadata": {
        "colab": {
          "base_uri": "https://localhost:8080/",
          "height": 419
        },
        "id": "9-D5JC_jCSwV",
        "outputId": "515bc803-b7d2-4dad-ff16-8a37ae6401ae"
      },
      "source": [
        "df3"
      ],
      "execution_count": 53,
      "outputs": [
        {
          "output_type": "execute_result",
          "data": {
            "text/html": [
              "<div>\n",
              "<style scoped>\n",
              "    .dataframe tbody tr th:only-of-type {\n",
              "        vertical-align: middle;\n",
              "    }\n",
              "\n",
              "    .dataframe tbody tr th {\n",
              "        vertical-align: top;\n",
              "    }\n",
              "\n",
              "    .dataframe thead th {\n",
              "        text-align: right;\n",
              "    }\n",
              "</style>\n",
              "<table border=\"1\" class=\"dataframe\">\n",
              "  <thead>\n",
              "    <tr style=\"text-align: right;\">\n",
              "      <th></th>\n",
              "      <th>text</th>\n",
              "      <th>job_category</th>\n",
              "    </tr>\n",
              "  </thead>\n",
              "  <tbody>\n",
              "    <tr>\n",
              "      <th>0</th>\n",
              "      <td>The chosen Sr. Software Developer will be part...</td>\n",
              "      <td>software design</td>\n",
              "    </tr>\n",
              "    <tr>\n",
              "      <th>1</th>\n",
              "      <td>Position: C# Lead Software Developer Location:...</td>\n",
              "      <td>software design</td>\n",
              "    </tr>\n",
              "    <tr>\n",
              "      <th>2</th>\n",
              "      <td>Senior Software Developer Hoboken, NJ Starts a...</td>\n",
              "      <td>software design</td>\n",
              "    </tr>\n",
              "    <tr>\n",
              "      <th>3</th>\n",
              "      <td>Position: C# Lead Software Developer Location:...</td>\n",
              "      <td>software design</td>\n",
              "    </tr>\n",
              "    <tr>\n",
              "      <th>4</th>\n",
              "      <td>RESPONSIBILITIES: Kforce has a client seeking ...</td>\n",
              "      <td>software design</td>\n",
              "    </tr>\n",
              "    <tr>\n",
              "      <th>...</th>\n",
              "      <td>...</td>\n",
              "      <td>...</td>\n",
              "    </tr>\n",
              "    <tr>\n",
              "      <th>3195</th>\n",
              "      <td>Software Developer â?Asheville, NC\\n\\nPositio...</td>\n",
              "      <td>software design</td>\n",
              "    </tr>\n",
              "    <tr>\n",
              "      <th>3196</th>\n",
              "      <td>Business Group Highlights\\n\\nCivilian, State a...</td>\n",
              "      <td>software design</td>\n",
              "    </tr>\n",
              "    <tr>\n",
              "      <th>3197</th>\n",
              "      <td>Job Description:\\n\\nThe candidate must be expe...</td>\n",
              "      <td>software design</td>\n",
              "    </tr>\n",
              "    <tr>\n",
              "      <th>3198</th>\n",
              "      <td>PLEASE ONLY APPLY IF YOU DO NOT NEED SPONSORSH...</td>\n",
              "      <td>software design</td>\n",
              "    </tr>\n",
              "    <tr>\n",
              "      <th>3199</th>\n",
              "      <td>Company Information\\n\\nSolid reputation, passi...</td>\n",
              "      <td>software design</td>\n",
              "    </tr>\n",
              "  </tbody>\n",
              "</table>\n",
              "<p>3200 rows × 2 columns</p>\n",
              "</div>"
            ],
            "text/plain": [
              "                                                   text     job_category\n",
              "0     The chosen Sr. Software Developer will be part...  software design\n",
              "1     Position: C# Lead Software Developer Location:...  software design\n",
              "2     Senior Software Developer Hoboken, NJ Starts a...  software design\n",
              "3     Position: C# Lead Software Developer Location:...  software design\n",
              "4     RESPONSIBILITIES: Kforce has a client seeking ...  software design\n",
              "...                                                 ...              ...\n",
              "3195  Software Developer â?Asheville, NC\\n\\nPositio...  software design\n",
              "3196  Business Group Highlights\\n\\nCivilian, State a...  software design\n",
              "3197  Job Description:\\n\\nThe candidate must be expe...  software design\n",
              "3198  PLEASE ONLY APPLY IF YOU DO NOT NEED SPONSORSH...  software design\n",
              "3199  Company Information\\n\\nSolid reputation, passi...  software design\n",
              "\n",
              "[3200 rows x 2 columns]"
            ]
          },
          "metadata": {},
          "execution_count": 53
        }
      ]
    },
    {
      "cell_type": "code",
      "metadata": {
        "colab": {
          "base_uri": "https://localhost:8080/",
          "height": 419
        },
        "id": "8dt7rkKenEuO",
        "outputId": "a5f0db06-a212-47ed-b5b8-5c61baed782c"
      },
      "source": [
        "df2"
      ],
      "execution_count": 54,
      "outputs": [
        {
          "output_type": "execute_result",
          "data": {
            "text/html": [
              "<div>\n",
              "<style scoped>\n",
              "    .dataframe tbody tr th:only-of-type {\n",
              "        vertical-align: middle;\n",
              "    }\n",
              "\n",
              "    .dataframe tbody tr th {\n",
              "        vertical-align: top;\n",
              "    }\n",
              "\n",
              "    .dataframe thead th {\n",
              "        text-align: right;\n",
              "    }\n",
              "</style>\n",
              "<table border=\"1\" class=\"dataframe\">\n",
              "  <thead>\n",
              "    <tr style=\"text-align: right;\">\n",
              "      <th></th>\n",
              "      <th>text</th>\n",
              "      <th>job_category</th>\n",
              "    </tr>\n",
              "  </thead>\n",
              "  <tbody>\n",
              "    <tr>\n",
              "      <th>0</th>\n",
              "      <td>We have an immediate opening for a Sharp Data ...</td>\n",
              "      <td>data scientist</td>\n",
              "    </tr>\n",
              "    <tr>\n",
              "      <th>1</th>\n",
              "      <td>Candidates should have the following backgroun...</td>\n",
              "      <td>data scientist</td>\n",
              "    </tr>\n",
              "    <tr>\n",
              "      <th>2</th>\n",
              "      <td>We are seeking an extraordinary Data Scientist...</td>\n",
              "      <td>data scientist</td>\n",
              "    </tr>\n",
              "    <tr>\n",
              "      <th>3</th>\n",
              "      <td>Read what people are saying about working here...</td>\n",
              "      <td>data scientist</td>\n",
              "    </tr>\n",
              "    <tr>\n",
              "      <th>4</th>\n",
              "      <td>Read what people are saying about working here...</td>\n",
              "      <td>data scientist</td>\n",
              "    </tr>\n",
              "    <tr>\n",
              "      <th>...</th>\n",
              "      <td>...</td>\n",
              "      <td>...</td>\n",
              "    </tr>\n",
              "    <tr>\n",
              "      <th>6109</th>\n",
              "      <td>Join Upstart and help build the future of cred...</td>\n",
              "      <td>data scientist</td>\n",
              "    </tr>\n",
              "    <tr>\n",
              "      <th>6110</th>\n",
              "      <td>Data Scientist, (Staff or Principal) at realto...</td>\n",
              "      <td>data scientist</td>\n",
              "    </tr>\n",
              "    <tr>\n",
              "      <th>6111</th>\n",
              "      <td>Job Summary: Would you like to play a part in ...</td>\n",
              "      <td>data scientist</td>\n",
              "    </tr>\n",
              "    <tr>\n",
              "      <th>6112</th>\n",
              "      <td>Data Scientist, (Staff or Principal) at realto...</td>\n",
              "      <td>data scientist</td>\n",
              "    </tr>\n",
              "    <tr>\n",
              "      <th>6113</th>\n",
              "      <td>Data Scientist, (Staff or Principal) at realto...</td>\n",
              "      <td>data scientist</td>\n",
              "    </tr>\n",
              "  </tbody>\n",
              "</table>\n",
              "<p>6114 rows × 2 columns</p>\n",
              "</div>"
            ],
            "text/plain": [
              "                                                   text    job_category\n",
              "0     We have an immediate opening for a Sharp Data ...  data scientist\n",
              "1     Candidates should have the following backgroun...  data scientist\n",
              "2     We are seeking an extraordinary Data Scientist...  data scientist\n",
              "3     Read what people are saying about working here...  data scientist\n",
              "4     Read what people are saying about working here...  data scientist\n",
              "...                                                 ...             ...\n",
              "6109  Join Upstart and help build the future of cred...  data scientist\n",
              "6110  Data Scientist, (Staff or Principal) at realto...  data scientist\n",
              "6111  Job Summary: Would you like to play a part in ...  data scientist\n",
              "6112  Data Scientist, (Staff or Principal) at realto...  data scientist\n",
              "6113  Data Scientist, (Staff or Principal) at realto...  data scientist\n",
              "\n",
              "[6114 rows x 2 columns]"
            ]
          },
          "metadata": {},
          "execution_count": 54
        }
      ]
    },
    {
      "cell_type": "code",
      "metadata": {
        "id": "45YWSlm6pLsf"
      },
      "source": [
        "df4=pd.concat([df2, df3], ignore_index = True,axis=0)"
      ],
      "execution_count": 93,
      "outputs": []
    },
    {
      "cell_type": "code",
      "metadata": {
        "id": "uxqsVbKrpPoH"
      },
      "source": [
        "df=df4"
      ],
      "execution_count": 94,
      "outputs": []
    },
    {
      "cell_type": "code",
      "metadata": {
        "colab": {
          "base_uri": "https://localhost:8080/",
          "height": 111
        },
        "id": "zhyK95UsDZtf",
        "outputId": "7f9bed56-334e-4cf4-869f-25c62ccda001"
      },
      "source": [
        "d = {'job_category':df['job_category'].value_counts().index, 'count': df['job_category'].value_counts()}\n",
        "df_cat = pd.DataFrame(data=d).reset_index(drop=True)\n",
        "df_cat"
      ],
      "execution_count": 95,
      "outputs": [
        {
          "output_type": "execute_result",
          "data": {
            "text/html": [
              "<div>\n",
              "<style scoped>\n",
              "    .dataframe tbody tr th:only-of-type {\n",
              "        vertical-align: middle;\n",
              "    }\n",
              "\n",
              "    .dataframe tbody tr th {\n",
              "        vertical-align: top;\n",
              "    }\n",
              "\n",
              "    .dataframe thead th {\n",
              "        text-align: right;\n",
              "    }\n",
              "</style>\n",
              "<table border=\"1\" class=\"dataframe\">\n",
              "  <thead>\n",
              "    <tr style=\"text-align: right;\">\n",
              "      <th></th>\n",
              "      <th>job_category</th>\n",
              "      <th>count</th>\n",
              "    </tr>\n",
              "  </thead>\n",
              "  <tbody>\n",
              "    <tr>\n",
              "      <th>0</th>\n",
              "      <td>data scientist</td>\n",
              "      <td>6114</td>\n",
              "    </tr>\n",
              "    <tr>\n",
              "      <th>1</th>\n",
              "      <td>software design</td>\n",
              "      <td>3200</td>\n",
              "    </tr>\n",
              "  </tbody>\n",
              "</table>\n",
              "</div>"
            ],
            "text/plain": [
              "      job_category  count\n",
              "0   data scientist   6114\n",
              "1  software design   3200"
            ]
          },
          "metadata": {},
          "execution_count": 95
        }
      ]
    },
    {
      "cell_type": "code",
      "metadata": {
        "colab": {
          "base_uri": "https://localhost:8080/",
          "height": 904
        },
        "id": "Tn7APianDwGu",
        "outputId": "4736614a-96e7-4aea-eecc-917f8f96363a"
      },
      "source": [
        "df_cat.plot(x='job_category', y='count', kind='bar', legend=False,  figsize=(8, 5))\n",
        "plt.title(\"类目分布\")\n",
        "plt.ylabel('数量', fontsize=18)\n",
        "plt.xlabel('类目', fontsize=18)"
      ],
      "execution_count": null,
      "outputs": [
        {
          "output_type": "execute_result",
          "data": {
            "text/plain": [
              "Text(0.5, 0, '类目')"
            ]
          },
          "metadata": {},
          "execution_count": 19
        },
        {
          "output_type": "stream",
          "name": "stderr",
          "text": [
            "/usr/local/lib/python3.7/dist-packages/matplotlib/backends/backend_agg.py:214: RuntimeWarning: Glyph 31867 missing from current font.\n",
            "  font.set_text(s, 0.0, flags=flags)\n",
            "/usr/local/lib/python3.7/dist-packages/matplotlib/backends/backend_agg.py:214: RuntimeWarning: Glyph 30446 missing from current font.\n",
            "  font.set_text(s, 0.0, flags=flags)\n",
            "/usr/local/lib/python3.7/dist-packages/matplotlib/backends/backend_agg.py:214: RuntimeWarning: Glyph 20998 missing from current font.\n",
            "  font.set_text(s, 0.0, flags=flags)\n",
            "/usr/local/lib/python3.7/dist-packages/matplotlib/backends/backend_agg.py:214: RuntimeWarning: Glyph 24067 missing from current font.\n",
            "  font.set_text(s, 0.0, flags=flags)\n",
            "/usr/local/lib/python3.7/dist-packages/matplotlib/backends/backend_agg.py:183: RuntimeWarning: Glyph 31867 missing from current font.\n",
            "  font.set_text(s, 0, flags=flags)\n",
            "/usr/local/lib/python3.7/dist-packages/matplotlib/backends/backend_agg.py:183: RuntimeWarning: Glyph 30446 missing from current font.\n",
            "  font.set_text(s, 0, flags=flags)\n",
            "/usr/local/lib/python3.7/dist-packages/matplotlib/backends/backend_agg.py:214: RuntimeWarning: Glyph 25968 missing from current font.\n",
            "  font.set_text(s, 0.0, flags=flags)\n",
            "/usr/local/lib/python3.7/dist-packages/matplotlib/backends/backend_agg.py:214: RuntimeWarning: Glyph 37327 missing from current font.\n",
            "  font.set_text(s, 0.0, flags=flags)\n",
            "/usr/local/lib/python3.7/dist-packages/matplotlib/backends/backend_agg.py:183: RuntimeWarning: Glyph 25968 missing from current font.\n",
            "  font.set_text(s, 0, flags=flags)\n",
            "/usr/local/lib/python3.7/dist-packages/matplotlib/backends/backend_agg.py:183: RuntimeWarning: Glyph 37327 missing from current font.\n",
            "  font.set_text(s, 0, flags=flags)\n",
            "/usr/local/lib/python3.7/dist-packages/matplotlib/backends/backend_agg.py:183: RuntimeWarning: Glyph 20998 missing from current font.\n",
            "  font.set_text(s, 0, flags=flags)\n",
            "/usr/local/lib/python3.7/dist-packages/matplotlib/backends/backend_agg.py:183: RuntimeWarning: Glyph 24067 missing from current font.\n",
            "  font.set_text(s, 0, flags=flags)\n"
          ]
        },
        {
          "output_type": "display_data",
          "data": {
            "image/png": "[encoded data removed]",
            "text/plain": [
              "<Figure size 576x360 with 1 Axes>"
            ]
          },
          "metadata": {
            "needs_background": "light"
          }
        }
      ]
    },
    {
      "cell_type": "code",
      "metadata": {
        "id": "ChA3Rjs2lHWu"
      },
      "source": [
        "def remove_punctuation(line):\n",
        "    line = str(line)\n",
        "    if line.strip()=='':\n",
        "        return ''\n",
        "    rule = re.compile(u\"[^a-zA-Z0-9\\u4E00-\\u9FA5]\")\n",
        "    line = rule.sub('',line)\n",
        "    return line\n"
      ],
      "execution_count": 33,
      "outputs": []
    },
    {
      "cell_type": "code",
      "metadata": {
        "id": "9_y0IQaflS1L"
      },
      "source": [
        "df1=df1.apply(remove_punctuation)\n",
        "df2=df2.apply(remove_punctuation)\n",
        "df3=df3.apply(remove_punctuation)"
      ],
      "execution_count": 37,
      "outputs": []
    },
    {
      "cell_type": "code",
      "metadata": {
        "colab": {
          "base_uri": "https://localhost:8080/"
        },
        "id": "M0NMEH9sm9mU",
        "outputId": "5445d40d-7205-449d-81a3-96a7f8ab0aac"
      },
      "source": [
        "df2"
      ],
      "execution_count": 38,
      "outputs": [
        {
          "output_type": "execute_result",
          "data": {
            "text/plain": [
              "job_discrib    0WehaveanimmediateopeningforaSharpData1Candida...\n",
              "category       0datascientist1datascientist2datascientist3dat...\n",
              "dtype: object"
            ]
          },
          "metadata": {},
          "execution_count": 38
        }
      ]
    },
    {
      "cell_type": "code",
      "metadata": {
        "colab": {
          "base_uri": "https://localhost:8080/",
          "height": 359
        },
        "id": "BH-FtBivE0eb",
        "outputId": "2fe575a5-8feb-4228-ecdb-5d4eab530f3b"
      },
      "source": [
        "df['cat_id'] = df['job_category'].factorize()[0]\n",
        "cat_id_df = df[['job_category', 'cat_id']].drop_duplicates().sort_values('cat_id').reset_index(drop=True)\n",
        "cat_to_id = dict(cat_id_df.values)\n",
        "id_to_cat = dict(cat_id_df[['cat_id', 'job_category']].values)\n",
        "df.sample(10)"
      ],
      "execution_count": 96,
      "outputs": [
        {
          "output_type": "execute_result",
          "data": {
            "text/html": [
              "<div>\n",
              "<style scoped>\n",
              "    .dataframe tbody tr th:only-of-type {\n",
              "        vertical-align: middle;\n",
              "    }\n",
              "\n",
              "    .dataframe tbody tr th {\n",
              "        vertical-align: top;\n",
              "    }\n",
              "\n",
              "    .dataframe thead th {\n",
              "        text-align: right;\n",
              "    }\n",
              "</style>\n",
              "<table border=\"1\" class=\"dataframe\">\n",
              "  <thead>\n",
              "    <tr style=\"text-align: right;\">\n",
              "      <th></th>\n",
              "      <th>text</th>\n",
              "      <th>job_category</th>\n",
              "      <th>cat_id</th>\n",
              "    </tr>\n",
              "  </thead>\n",
              "  <tbody>\n",
              "    <tr>\n",
              "      <th>3134</th>\n",
              "      <td>Role: Data Scientist  \\n Location:&amp;nbsp;Jackso...</td>\n",
              "      <td>data scientist</td>\n",
              "      <td>0</td>\n",
              "    </tr>\n",
              "    <tr>\n",
              "      <th>2732</th>\n",
              "      <td>AWS Data Scientist- San Francisco - $150K - We...</td>\n",
              "      <td>data scientist</td>\n",
              "      <td>0</td>\n",
              "    </tr>\n",
              "    <tr>\n",
              "      <th>9285</th>\n",
              "      <td>Job Title: Junior Software Engineer / Entry-Le...</td>\n",
              "      <td>software design</td>\n",
              "      <td>1</td>\n",
              "    </tr>\n",
              "    <tr>\n",
              "      <th>8588</th>\n",
              "      <td>The Challenge:\\n\\nAre you looking for an oppor...</td>\n",
              "      <td>software design</td>\n",
              "      <td>1</td>\n",
              "    </tr>\n",
              "    <tr>\n",
              "      <th>7278</th>\n",
              "      <td>THE OPPORTUNITY \\nKleerMail is looking for a t...</td>\n",
              "      <td>software design</td>\n",
              "      <td>1</td>\n",
              "    </tr>\n",
              "    <tr>\n",
              "      <th>6477</th>\n",
              "      <td>Minimum Required Skills: Python, JavaScript, A...</td>\n",
              "      <td>software design</td>\n",
              "      <td>1</td>\n",
              "    </tr>\n",
              "    <tr>\n",
              "      <th>1697</th>\n",
              "      <td>Job Description\\n\\nOur data scientists have a ...</td>\n",
              "      <td>data scientist</td>\n",
              "      <td>0</td>\n",
              "    </tr>\n",
              "    <tr>\n",
              "      <th>3087</th>\n",
              "      <td>Read what people are saying about working here...</td>\n",
              "      <td>data scientist</td>\n",
              "      <td>0</td>\n",
              "    </tr>\n",
              "    <tr>\n",
              "      <th>6558</th>\n",
              "      <td>Senior Software Developer Overview: Automate V...</td>\n",
              "      <td>software design</td>\n",
              "      <td>1</td>\n",
              "    </tr>\n",
              "    <tr>\n",
              "      <th>6553</th>\n",
              "      <td>Read what people are saying about working here...</td>\n",
              "      <td>software design</td>\n",
              "      <td>1</td>\n",
              "    </tr>\n",
              "  </tbody>\n",
              "</table>\n",
              "</div>"
            ],
            "text/plain": [
              "                                                   text  ... cat_id\n",
              "3134  Role: Data Scientist  \\n Location:&nbsp;Jackso...  ...      0\n",
              "2732  AWS Data Scientist- San Francisco - $150K - We...  ...      0\n",
              "9285  Job Title: Junior Software Engineer / Entry-Le...  ...      1\n",
              "8588  The Challenge:\\n\\nAre you looking for an oppor...  ...      1\n",
              "7278  THE OPPORTUNITY \\nKleerMail is looking for a t...  ...      1\n",
              "6477  Minimum Required Skills: Python, JavaScript, A...  ...      1\n",
              "1697  Job Description\\n\\nOur data scientists have a ...  ...      0\n",
              "3087  Read what people are saying about working here...  ...      0\n",
              "6558  Senior Software Developer Overview: Automate V...  ...      1\n",
              "6553  Read what people are saying about working here...  ...      1\n",
              "\n",
              "[10 rows x 3 columns]"
            ]
          },
          "metadata": {},
          "execution_count": 96
        }
      ]
    },
    {
      "cell_type": "code",
      "metadata": {
        "id": "Kg6L7vQjGPEf"
      },
      "source": [
        "MAX_NB_WORDS = 500\n",
        "# 每条cut_review最大的长度\n",
        "MAX_SEQUENCE_LENGTH = 250\n",
        "# 设置Embeddingceng层的维度\n",
        "EMBEDDING_DIM = 100\n",
        " \n",
        "tokenizer = Tokenizer(num_words=MAX_NB_WORDS, filters='!\"#$%&()*+,-./:;<=>?@[\\]^_`{|}~', lower=True)\n",
        "tokenizer.fit_on_texts(df['text'].values)\n",
        "word_index = tokenizer.word_index\n"
      ],
      "execution_count": 97,
      "outputs": []
    },
    {
      "cell_type": "code",
      "metadata": {
        "id": "9d1USCLjHZUN"
      },
      "source": [
        "from keras.preprocessing.sequence import pad_sequences"
      ],
      "execution_count": 98,
      "outputs": []
    },
    {
      "cell_type": "code",
      "metadata": {
        "colab": {
          "base_uri": "https://localhost:8080/"
        },
        "id": "qZDBJoQeHHbf",
        "outputId": "96626a9a-c01b-4d91-8488-536cdadb7fe1"
      },
      "source": [
        "X = tokenizer.texts_to_sequences(df['text'].values)\n",
        "#填充X,让X的各个列的长度统一\n",
        "X = pad_sequences(X, maxlen=MAX_SEQUENCE_LENGTH)\n",
        " \n",
        "#多类标签的onehot展开\n",
        "Y = pd.get_dummies(df['cat_id']).values\n",
        " \n",
        "print(X.shape)\n",
        "print(Y.shape)"
      ],
      "execution_count": 99,
      "outputs": [
        {
          "output_type": "stream",
          "name": "stdout",
          "text": [
            "(9314, 250)\n",
            "(9314, 2)\n"
          ]
        }
      ]
    },
    {
      "cell_type": "code",
      "metadata": {
        "colab": {
          "base_uri": "https://localhost:8080/"
        },
        "id": "LV30U0FjHayh",
        "outputId": "edc9d5ab-08d6-45a4-c03d-845176f4ab8d"
      },
      "source": [
        "#拆分训练集和测试集\n",
        "X_train, X_test, Y_train, Y_test = train_test_split(X,Y, test_size = 0.10, random_state = 42)\n",
        "print(X_train.shape,Y_train.shape)\n",
        "print(X_test.shape,Y_test.shape)"
      ],
      "execution_count": 100,
      "outputs": [
        {
          "output_type": "stream",
          "name": "stdout",
          "text": [
            "(8382, 250) (8382, 2)\n",
            "(932, 250) (932, 2)\n"
          ]
        }
      ]
    },
    {
      "cell_type": "code",
      "metadata": {
        "colab": {
          "base_uri": "https://localhost:8080/"
        },
        "id": "kevsNGhiHdPu",
        "outputId": "42f11646-d546-4335-9900-df30712ac432"
      },
      "source": [
        "#定义模型\n",
        "model = keras.models.Sequential()\n",
        "model.add(Embedding(MAX_NB_WORDS, EMBEDDING_DIM, input_length=X.shape[1]))\n",
        "model.add(LSTM(100, dropout=0.2,return_sequences=True, recurrent_dropout=0.2))\n",
        "model.add(LSTM(50, dropout=0.2, recurrent_dropout=0.2))\n",
        "model.add(Dense(27, activation='softmax'))\n",
        "model.compile(loss='categorical_crossentropy', optimizer='adam', metrics=['accuracy'])\n",
        "print(model.summary())"
      ],
      "execution_count": 119,
      "outputs": [
        {
          "output_type": "stream",
          "name": "stdout",
          "text": [
            "Model: \"sequential_6\"\n",
            "_________________________________________________________________\n",
            " Layer (type)                Output Shape              Param #   \n",
            "=================================================================\n",
            " embedding_6 (Embedding)     (None, 250, 100)          50000     \n",
            "                                                                 \n",
            " lstm_9 (LSTM)               (None, 250, 100)          80400     \n",
            "                                                                 \n",
            " lstm_10 (LSTM)              (None, 50)                30200     \n",
            "                                                                 \n",
            " dense_5 (Dense)             (None, 27)                1377      \n",
            "                                                                 \n",
            "=================================================================\n",
            "Total params: 161,977\n",
            "Trainable params: 161,977\n",
            "Non-trainable params: 0\n",
            "_________________________________________________________________\n",
            "None\n"
          ]
        }
      ]
    },
    {
      "cell_type": "code",
      "metadata": {
        "colab": {
          "base_uri": "https://localhost:8080/"
        },
        "id": "eRK7zt0HHmxd",
        "outputId": "5c065961-df6f-48a4-b285-527953966f27"
      },
      "source": [
        "epochs = 5\n",
        "batch_size = 64\n",
        "\n",
        "history = model.fit(X_train, Y_train, epochs=epochs, batch_size=batch_size,validation_split=0.1)"
      ],
      "execution_count": 112,
      "outputs": [
        {
          "output_type": "stream",
          "name": "stdout",
          "text": [
            "Epoch 1/5\n",
            "118/118 [==============================] - 130s 1s/step - loss: 0.5344 - accuracy: 0.7738 - val_loss: 0.4531 - val_accuracy: 0.8069\n",
            "Epoch 2/5\n",
            "118/118 [==============================] - 126s 1s/step - loss: 0.4901 - accuracy: 0.7456 - val_loss: 0.5204 - val_accuracy: 0.6806\n",
            "Epoch 3/5\n",
            "118/118 [==============================] - 125s 1s/step - loss: 0.3266 - accuracy: 0.8304 - val_loss: 0.5860 - val_accuracy: 0.6806\n",
            "Epoch 4/5\n",
            "118/118 [==============================] - 126s 1s/step - loss: 0.3614 - accuracy: 0.8571 - val_loss: 0.2681 - val_accuracy: 0.9166\n",
            "Epoch 5/5\n",
            "118/118 [==============================] - 126s 1s/step - loss: 0.2645 - accuracy: 0.9128 - val_loss: 0.2470 - val_accuracy: 0.9201\n"
          ]
        }
      ]
    },
    {
      "cell_type": "code",
      "metadata": {
        "colab": {
          "base_uri": "https://localhost:8080/",
          "height": 281
        },
        "id": "lwl8az1h1DPy",
        "outputId": "ba94e649-69b4-43b7-c6fc-9bcf9f746500"
      },
      "source": [
        "plt.title('Loss')\n",
        "plt.plot(history.history['loss'], label='train')\n",
        "plt.plot(history.history['val_loss'], label='test')\n",
        "plt.legend()\n",
        "plt.show();"
      ],
      "execution_count": 117,
      "outputs": [
        {
          "output_type": "display_data",
          "data": {
            "image/png": "[encoded data removed]",
            "text/plain": [
              "<Figure size 432x288 with 1 Axes>"
            ]
          },
          "metadata": {
            "needs_background": "light"
          }
        }
      ]
    },
    {
      "cell_type": "code",
      "metadata": {
        "colab": {
          "base_uri": "https://localhost:8080/",
          "height": 281
        },
        "id": "v7H-tAED1Fbz",
        "outputId": "fde4da7e-2e70-4421-cb67-837d1836caa1"
      },
      "source": [
        "plt.title('Accuracy')\n",
        "plt.plot(history.history['accuracy'], label='train')\n",
        "plt.plot(history.history['val_accuracy'], label='test')\n",
        "plt.legend()\n",
        "plt.show();\n"
      ],
      "execution_count": 118,
      "outputs": [
        {
          "output_type": "display_data",
          "data": {
            "image/png": "[encoded data removed]",
            "text/plain": [
              "<Figure size 432x288 with 1 Axes>"
            ]
          },
          "metadata": {
            "needs_background": "light"
          }
        }
      ]
    },
    {
      "cell_type": "code",
      "metadata": {
        "id": "rhGcyB3-1p5s"
      },
      "source": [
        "def predict(text):\n",
        "    seq = tokenizer.texts_to_sequences(text)\n",
        "    padded = pad_sequences(seq, maxlen=MAX_SEQUENCE_LENGTH)\n",
        "    pred = model.predict(padded)\n",
        "    cat_id= pred.argmax(axis=1)[0]\n",
        "    return cat_id_df[cat_id_df.cat_id==cat_id]['job_category'].values[0]\n"
      ],
      "execution_count": 105,
      "outputs": []
    },
    {
      "cell_type": "code",
      "metadata": {
        "colab": {
          "base_uri": "https://localhost:8080/",
          "height": 34
        },
        "id": "XHU9nF8u2Rol",
        "outputId": "ebca3804-5cab-4382-c7e9-e19d1a4d6fa5"
      },
      "source": [
        "predict('data python All Experiences within an AWS/Big Data Environment')"
      ],
      "execution_count": 116,
      "outputs": [
        {
          "output_type": "execute_result",
          "data": {
            "application/vnd.google.colaboratory.intrinsic+json": {
              "type": "string"
            },
            "text/plain": [
              "'data scientist'"
            ]
          },
          "metadata": {},
          "execution_count": 116
        }
      ]
    }
  ]
}